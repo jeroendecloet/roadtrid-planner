{
 "cells": [
  {
   "cell_type": "code",
   "execution_count": null,
   "id": "226fb076-50cb-4bad-9d60-86a8a89bce92",
   "metadata": {},
   "outputs": [],
   "source": [
    "import sys\n",
    "sys.path.append(\"..\")\n",
    "%load_ext autoreload\n",
    "%autoreload 2"
   ]
  },
  {
   "cell_type": "code",
   "execution_count": null,
   "id": "d90c3c67-bfb6-4940-8b81-9df5b814ae55",
   "metadata": {
    "tags": []
   },
   "outputs": [],
   "source": [
    "import folium\n",
    "\n",
    "from src.main import MapItems, Locator, MapMaker"
   ]
  },
  {
   "cell_type": "code",
   "execution_count": null,
   "id": "c189f2bc-0d82-4fd8-a4c2-bda600cb8c60",
   "metadata": {
    "tags": []
   },
   "outputs": [],
   "source": [
    "locator = Locator()"
   ]
  },
  {
   "cell_type": "code",
   "execution_count": null,
   "id": "32bfb6a2-12fe-43b7-9fe1-916ea63f7ee8",
   "metadata": {},
   "outputs": [],
   "source": [
    "mm = MapMaker(map_item_filename='iceland_map_items.json')\n",
    "mm.main()"
   ]
  },
  {
   "cell_type": "code",
   "execution_count": null,
   "id": "b41f800c-dd24-45b5-b928-4ff9ba8279d3",
   "metadata": {
    "tags": []
   },
   "outputs": [],
   "source": [
    "mm.base_map"
   ]
  },
  {
   "cell_type": "code",
   "execution_count": null,
   "id": "0c8961a8-033b-4f11-a9b7-21246f062098",
   "metadata": {
    "tags": []
   },
   "outputs": [],
   "source": [
    "# Save the map to html file\n",
    "mm.save_map('IcelandMap.html')"
   ]
  },
  {
   "cell_type": "code",
   "execution_count": null,
   "id": "f9e0a213-f9a6-471f-8855-1032770f2a16",
   "metadata": {},
   "outputs": [],
   "source": [
    "# Save map icons (mi) to JSON file\n",
    "mm.mi.to_json()"
   ]
  },
  {
   "cell_type": "markdown",
   "id": "b784152f-0e4e-4ab0-9593-4d2918f4eb5f",
   "metadata": {},
   "source": [
    "# Find locations"
   ]
  },
  {
   "cell_type": "code",
   "execution_count": null,
   "id": "b2024b05-51e1-45f1-9ab6-deb8f0202aed",
   "metadata": {
    "tags": []
   },
   "outputs": [],
   "source": [
    "locator(\"Videy\", \"iceland\")"
   ]
  },
  {
   "cell_type": "code",
   "execution_count": null,
   "id": "0082d023-29e1-4811-8d7f-a7efd89af85a",
   "metadata": {},
   "outputs": [],
   "source": []
  },
  {
   "cell_type": "markdown",
   "id": "28d23fb1-c0fd-47b4-ad21-dd1373d32206",
   "metadata": {},
   "source": [
    "# Hotels"
   ]
  },
  {
   "cell_type": "code",
   "execution_count": null,
   "id": "e833012e-4684-4e4a-9856-82d2135e9f13",
   "metadata": {
    "tags": []
   },
   "outputs": [],
   "source": [
    "locator(\"Borealis hotel\", \"iceland\")"
   ]
  },
  {
   "cell_type": "markdown",
   "id": "6cee7ba9-de5b-4ad6-ab11-3aa3466a5906",
   "metadata": {
    "tags": []
   },
   "source": [
    "# Availability table\n",
    "Create an overview table for the availability of hotels"
   ]
  },
  {
   "cell_type": "code",
   "execution_count": null,
   "id": "c796fc7b-aed1-496e-9323-43f0d02d89a4",
   "metadata": {},
   "outputs": [],
   "source": [
    "hotels = mm.mi.d['hotels']"
   ]
  },
  {
   "cell_type": "code",
   "execution_count": null,
   "id": "8660a5a0-d09e-4704-ae74-a25592016fff",
   "metadata": {
    "tags": []
   },
   "outputs": [],
   "source": [
    "import re"
   ]
  },
  {
   "cell_type": "code",
   "execution_count": null,
   "id": "0e4dd7b2-9e11-4433-ab34-0bf57d0b3ebd",
   "metadata": {
    "tags": []
   },
   "outputs": [],
   "source": [
    "def parse_date1(s):\n",
    "    regex = r\"(\\d+)\\-(\\d+) (Juli|Aug)\"\n",
    "    result = re.findall(regex, s)\n",
    "    if len(result) == 0:\n",
    "        print(f\"1: Could not extract dates from {s}\")\n",
    "        return None\n",
    "    else:\n",
    "        return result[0]\n",
    "\n",
    "def parse_date2(s):\n",
    "    regex = r\"(\\d+) (Juli) \\- (\\d+) (Aug)\"\n",
    "    result = re.findall(regex, s)\n",
    "    if len(result) == 0:\n",
    "        print(f\"2: Could not extract dates from {s}\")\n",
    "        return None\n",
    "    else:\n",
    "        return result[0]"
   ]
  },
  {
   "cell_type": "code",
   "execution_count": null,
   "id": "66bcc1e9-f190-4c05-a4a6-cb16ec8bbfe5",
   "metadata": {
    "tags": []
   },
   "outputs": [],
   "source": [
    "availability = dict()\n",
    "for key, val in hotels.items():\n",
    "    availability[key] = []\n",
    "    for date in val['beschikbaarheid']:\n",
    "        _date = parse_date1(date)\n",
    "        if _date is None:\n",
    "            _date = parse_date2(date)\n",
    "        if _date is not None:\n",
    "            availability[key].append(_date)"
   ]
  },
  {
   "cell_type": "code",
   "execution_count": null,
   "id": "01b90d03-2eec-4208-9ab1-5fc3b0d3ba29",
   "metadata": {
    "tags": []
   },
   "outputs": [],
   "source": [
    "juli = list(range(18, 32))\n",
    "aug = list(range(1, 4))\n",
    "_juli = [\"Juli\"] * (len(juli) - 1)\n",
    "_aug = [\"Aug\"] * (len(aug) - 1)"
   ]
  },
  {
   "cell_type": "code",
   "execution_count": null,
   "id": "cb79ce72-9234-43f8-9f4e-062da7e78c0b",
   "metadata": {
    "tags": []
   },
   "outputs": [],
   "source": [
    "dates = list(zip(juli[:-1], _juli, juli[1:], _juli)) + [(juli[-1], _juli[0], aug[0], _aug[0])] + list(zip(aug[:-1], _aug, aug[1:], _aug))\n",
    "fmt = \"{} {} - {} {}\"\n",
    "dates = [fmt.format(*_date) for _date in dates]\n",
    "# dates"
   ]
  },
  {
   "cell_type": "code",
   "execution_count": null,
   "id": "a44da0c0-f5fc-461e-b306-cf9a23c51668",
   "metadata": {
    "tags": []
   },
   "outputs": [],
   "source": [
    "import pandas as pd\n",
    "idx = pd.IndexSlice"
   ]
  },
  {
   "cell_type": "code",
   "execution_count": null,
   "id": "de071a08-81ee-4070-871f-de98362bbf21",
   "metadata": {
    "tags": []
   },
   "outputs": [],
   "source": [
    "av = dict()\n",
    "for key, val in availability.items():\n",
    "    av[key] = []\n",
    "    for date in val:\n",
    "        if len(date) == 3:\n",
    "            start_date, end_date, month = date\n",
    "            start_month = month\n",
    "            end_month = month\n",
    "        else:\n",
    "            start_date, start_month, end_date, end_month = date\n",
    "        \n",
    "        start_date = int(start_date)\n",
    "        end_date = int(end_date)\n",
    "        \n",
    "        if start_date == end_date - 1:\n",
    "            av[key].append(fmt.format(start_date, start_month, end_date, end_month))\n",
    "        else:\n",
    "            if start_month == end_month:\n",
    "                ranges = list(range(start_date, end_date + 1))\n",
    "                av[key].extend([fmt.format(*_date) for _date in list(zip(ranges[:-1], [start_month] * (len(ranges) - 1), ranges[1:], [end_month] * (len(ranges) - 1)))])\n",
    "            else:\n",
    "                ranges = list(range(start_date, 32))\n",
    "                av[key].extend([fmt.format(*_date) for _date in list(zip(ranges[:-1], [start_month] * (len(ranges) - 1), ranges[1:], [start_month] * (len(ranges) - 1)))])\n",
    "                \n",
    "                av[key].append(fmt.format(31, start_month, 1, end_month))\n",
    "                \n",
    "                ranges = list(range(1, end_date + 1))\n",
    "                av[key].extend([fmt.format(*_date) for _date in list(zip(ranges[:-1], [end_month] * (len(ranges) - 1), ranges[1:], [end_month] * (len(ranges) - 1)))])    "
   ]
  },
  {
   "cell_type": "code",
   "execution_count": null,
   "id": "4ad92e8a-bac0-4711-82eb-6d548a64273c",
   "metadata": {
    "tags": []
   },
   "outputs": [],
   "source": [
    "df_av = dict()\n",
    "for hotel, d in av.items():\n",
    "    df_av[hotel] = [_date in d for _date in dates]\n",
    "df = pd.DataFrame(index=dates, data=df_av).T\n",
    "df = pd.concat([df, pd.DataFrame(data={key: [val['region']] for key, val in hotels.items()}).T], axis=1).rename(columns={0: \"Regio\"}).set_index(\"Regio\", append=True).swaplevel(0, 1).sort_index()\n",
    "df"
   ]
  },
  {
   "cell_type": "code",
   "execution_count": null,
   "id": "d4bb95e1-bca8-447d-bbd1-96a27090c2e1",
   "metadata": {
    "tags": []
   },
   "outputs": [],
   "source": [
    "route = [\"zw\", \"mid\", \"w\", \"n\", \"o\", \"zo\", \"z\"]"
   ]
  },
  {
   "cell_type": "code",
   "execution_count": null,
   "id": "87393e58-312d-4f72-a9db-4fd1b90e29c2",
   "metadata": {
    "tags": []
   },
   "outputs": [],
   "source": [
    "df.loc[idx[route, :]].astype(int)"
   ]
  }
 ],
 "metadata": {
  "kernelspec": {
   "display_name": "Python 3 (ipykernel)",
   "language": "python",
   "name": "python3"
  },
  "language_info": {
   "codemirror_mode": {
    "name": "ipython",
    "version": 3
   },
   "file_extension": ".py",
   "mimetype": "text/x-python",
   "name": "python",
   "nbconvert_exporter": "python",
   "pygments_lexer": "ipython3",
   "version": "3.11.7"
  }
 },
 "nbformat": 4,
 "nbformat_minor": 5
}
