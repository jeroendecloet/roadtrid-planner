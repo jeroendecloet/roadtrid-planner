{
 "cells": [
  {
   "cell_type": "code",
   "execution_count": 10,
   "id": "e164de6f-c146-452e-b3c6-8602fb1080da",
   "metadata": {
    "tags": []
   },
   "outputs": [
    {
     "name": "stdout",
     "output_type": "stream",
     "text": [
      "The autoreload extension is already loaded. To reload it, use:\n",
      "  %reload_ext autoreload\n"
     ]
    }
   ],
   "source": [
    "import sys\n",
    "sys.path.append(\"..\")\n",
    "%load_ext autoreload\n",
    "%autoreload 2"
   ]
  },
  {
   "cell_type": "code",
   "execution_count": 11,
   "id": "21b4f918-be7a-4325-9711-76463103f510",
   "metadata": {
    "tags": []
   },
   "outputs": [],
   "source": [
    "import folium\n",
    "\n",
    "from src.main import MapItems, Locator, MapMaker"
   ]
  },
  {
   "cell_type": "code",
   "execution_count": 12,
   "id": "cfaa94d3-af4f-4f48-abe7-248f06c141db",
   "metadata": {
    "tags": []
   },
   "outputs": [],
   "source": [
    "locator = Locator()"
   ]
  },
  {
   "cell_type": "code",
   "execution_count": null,
   "id": "f8140258-fab3-412f-9373-d1dd2c2327ce",
   "metadata": {
    "tags": []
   },
   "outputs": [],
   "source": [
    "mm = MapMaker(map_item_filename='london_map_items.json')\n",
    "mm.main()"
   ]
  },
  {
   "cell_type": "code",
   "execution_count": null,
   "id": "3a50a1a0-59ce-4b30-9283-8a6727b403e1",
   "metadata": {
    "tags": []
   },
   "outputs": [],
   "source": [
    "mm.base_map"
   ]
  },
  {
   "cell_type": "code",
   "execution_count": null,
   "id": "d526f948-009d-42d0-92a9-1bfdc06e6eef",
   "metadata": {},
   "outputs": [],
   "source": [
    "# Save the map to html file\n",
    "mm.save_map('London.html')"
   ]
  },
  {
   "cell_type": "code",
   "execution_count": null,
   "id": "d95d0431-e5df-44b1-9784-2ad62d222164",
   "metadata": {},
   "outputs": [],
   "source": [
    "# Save map icons (mi) to JSON file\n",
    "mm.mi.to_json()"
   ]
  },
  {
   "cell_type": "markdown",
   "id": "ed933c9b-6d86-4838-8d01-8aaa058188a4",
   "metadata": {},
   "source": [
    "# Find locations"
   ]
  },
  {
   "cell_type": "code",
   "execution_count": 14,
   "id": "a345816d-0eb7-410a-9e09-02c7424db59b",
   "metadata": {},
   "outputs": [
    {
     "name": "stdout",
     "output_type": "stream",
     "text": [
      "Getting location for Platform 9 3/4 ...\n",
      "Success!\n"
     ]
    },
    {
     "data": {
      "text/plain": [
       "[38.2784282, -85.5366164]"
      ]
     },
     "execution_count": 14,
     "metadata": {},
     "output_type": "execute_result"
    }
   ],
   "source": [
    "locator(\"Platform 9 3/4\")"
   ]
  },
  {
   "cell_type": "code",
   "execution_count": 13,
   "id": "da2658b8-dff2-4a13-b428-59bcdb1ca55f",
   "metadata": {
    "tags": []
   },
   "outputs": [
    {
     "name": "stdout",
     "output_type": "stream",
     "text": [
      "Getting location for Platform 9 3/4 London United Kingdom...\n",
      "Success!\n"
     ]
    },
    {
     "data": {
      "text/plain": [
       "[51.53218675, -0.12391369216957895]"
      ]
     },
     "execution_count": 13,
     "metadata": {},
     "output_type": "execute_result"
    }
   ],
   "source": [
    "locator(\"Platform 9 3/4\", \"London United Kingdom\")"
   ]
  },
  {
   "cell_type": "code",
   "execution_count": null,
   "id": "c606fe78-7968-4bf0-8e23-a64210dfc11e",
   "metadata": {},
   "outputs": [],
   "source": []
  }
 ],
 "metadata": {
  "kernelspec": {
   "display_name": "Python 3 (ipykernel)",
   "language": "python",
   "name": "python3"
  },
  "language_info": {
   "codemirror_mode": {
    "name": "ipython",
    "version": 3
   },
   "file_extension": ".py",
   "mimetype": "text/x-python",
   "name": "python",
   "nbconvert_exporter": "python",
   "pygments_lexer": "ipython3",
   "version": "3.11.7"
  }
 },
 "nbformat": 4,
 "nbformat_minor": 5
}
